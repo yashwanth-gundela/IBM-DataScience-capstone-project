{
  "nbformat": 4,
  "nbformat_minor": 0,
  "metadata": {
    "colab": {
      "name": "CapstoneProject.ipynb",
      "provenance": []
    },
    "kernelspec": {
      "name": "python3",
      "display_name": "Python 3"
    }
  },
  "cells": [
    {
      "cell_type": "markdown",
      "metadata": {
        "id": "YRnZCbLKe_dT",
        "colab_type": "text"
      },
      "source": [
        "<h3>Importing Libraries</h3>"
      ]
    },
    {
      "cell_type": "code",
      "metadata": {
        "id": "5rIPy49OfH5U",
        "colab_type": "code",
        "colab": {}
      },
      "source": [
        "import pandas as pd\n",
        "import numpy as np\n",
        "import matplotlib.pyplot as plt\n",
        "import folium\n",
        "%matplotlib inline"
      ],
      "execution_count": 0,
      "outputs": []
    },
    {
      "cell_type": "markdown",
      "metadata": {
        "id": "_EckLZggrE2G",
        "colab_type": "text"
      },
      "source": [
        "<h3>Reading the Data</h3>"
      ]
    },
    {
      "cell_type": "code",
      "metadata": {
        "id": "Iy54XNizeP9U",
        "colab_type": "code",
        "colab": {}
      },
      "source": [
        "df = pd.read_html('https://en.wikipedia.org/wiki/List_of_postal_codes_of_Canada:_M')[0]"
      ],
      "execution_count": 0,
      "outputs": []
    },
    {
      "cell_type": "markdown",
      "metadata": {
        "id": "ZW21ZMkbrNhV",
        "colab_type": "text"
      },
      "source": [
        "<h4>Printing the DataFrame<h4>"
      ]
    },
    {
      "cell_type": "code",
      "metadata": {
        "id": "-4xsIlt_egAt",
        "colab_type": "code",
        "outputId": "db951347-d62c-457e-ec4e-dcf4a48b4b33",
        "colab": {
          "base_uri": "https://localhost:8080/",
          "height": 419
        }
      },
      "source": [
        "df"
      ],
      "execution_count": 4,
      "outputs": [
        {
          "output_type": "execute_result",
          "data": {
            "text/html": [
              "<div>\n",
              "<style scoped>\n",
              "    .dataframe tbody tr th:only-of-type {\n",
              "        vertical-align: middle;\n",
              "    }\n",
              "\n",
              "    .dataframe tbody tr th {\n",
              "        vertical-align: top;\n",
              "    }\n",
              "\n",
              "    .dataframe thead th {\n",
              "        text-align: right;\n",
              "    }\n",
              "</style>\n",
              "<table border=\"1\" class=\"dataframe\">\n",
              "  <thead>\n",
              "    <tr style=\"text-align: right;\">\n",
              "      <th></th>\n",
              "      <th>Postal Code</th>\n",
              "      <th>Borough</th>\n",
              "      <th>Neighborhood</th>\n",
              "    </tr>\n",
              "  </thead>\n",
              "  <tbody>\n",
              "    <tr>\n",
              "      <th>0</th>\n",
              "      <td>M1A</td>\n",
              "      <td>Not assigned</td>\n",
              "      <td>Not assigned</td>\n",
              "    </tr>\n",
              "    <tr>\n",
              "      <th>1</th>\n",
              "      <td>M2A</td>\n",
              "      <td>Not assigned</td>\n",
              "      <td>Not assigned</td>\n",
              "    </tr>\n",
              "    <tr>\n",
              "      <th>2</th>\n",
              "      <td>M3A</td>\n",
              "      <td>North York</td>\n",
              "      <td>Parkwoods</td>\n",
              "    </tr>\n",
              "    <tr>\n",
              "      <th>3</th>\n",
              "      <td>M4A</td>\n",
              "      <td>North York</td>\n",
              "      <td>Victoria Village</td>\n",
              "    </tr>\n",
              "    <tr>\n",
              "      <th>4</th>\n",
              "      <td>M5A</td>\n",
              "      <td>Downtown Toronto</td>\n",
              "      <td>Regent Park, Harbourfront</td>\n",
              "    </tr>\n",
              "    <tr>\n",
              "      <th>...</th>\n",
              "      <td>...</td>\n",
              "      <td>...</td>\n",
              "      <td>...</td>\n",
              "    </tr>\n",
              "    <tr>\n",
              "      <th>175</th>\n",
              "      <td>M5Z</td>\n",
              "      <td>Not assigned</td>\n",
              "      <td>Not assigned</td>\n",
              "    </tr>\n",
              "    <tr>\n",
              "      <th>176</th>\n",
              "      <td>M6Z</td>\n",
              "      <td>Not assigned</td>\n",
              "      <td>Not assigned</td>\n",
              "    </tr>\n",
              "    <tr>\n",
              "      <th>177</th>\n",
              "      <td>M7Z</td>\n",
              "      <td>Not assigned</td>\n",
              "      <td>Not assigned</td>\n",
              "    </tr>\n",
              "    <tr>\n",
              "      <th>178</th>\n",
              "      <td>M8Z</td>\n",
              "      <td>Etobicoke</td>\n",
              "      <td>Mimico NW, The Queensway West, South of Bloor,...</td>\n",
              "    </tr>\n",
              "    <tr>\n",
              "      <th>179</th>\n",
              "      <td>M9Z</td>\n",
              "      <td>Not assigned</td>\n",
              "      <td>Not assigned</td>\n",
              "    </tr>\n",
              "  </tbody>\n",
              "</table>\n",
              "<p>180 rows × 3 columns</p>\n",
              "</div>"
            ],
            "text/plain": [
              "    Postal Code  ...                                       Neighborhood\n",
              "0           M1A  ...                                       Not assigned\n",
              "1           M2A  ...                                       Not assigned\n",
              "2           M3A  ...                                          Parkwoods\n",
              "3           M4A  ...                                   Victoria Village\n",
              "4           M5A  ...                          Regent Park, Harbourfront\n",
              "..          ...  ...                                                ...\n",
              "175         M5Z  ...                                       Not assigned\n",
              "176         M6Z  ...                                       Not assigned\n",
              "177         M7Z  ...                                       Not assigned\n",
              "178         M8Z  ...  Mimico NW, The Queensway West, South of Bloor,...\n",
              "179         M9Z  ...                                       Not assigned\n",
              "\n",
              "[180 rows x 3 columns]"
            ]
          },
          "metadata": {
            "tags": []
          },
          "execution_count": 4
        }
      ]
    },
    {
      "cell_type": "markdown",
      "metadata": {
        "id": "Mq3a9ERqr4wt",
        "colab_type": "text"
      },
      "source": [
        "<h3>Dropping the Not assigned value<h3>"
      ]
    },
    {
      "cell_type": "code",
      "metadata": {
        "id": "UWzqhEnQfVrC",
        "colab_type": "code",
        "colab": {}
      },
      "source": [
        "df.drop(df.loc[df['Borough']==\"Not assigned\"].index, inplace=True)"
      ],
      "execution_count": 0,
      "outputs": []
    },
    {
      "cell_type": "code",
      "metadata": {
        "id": "JE6fQGuQgwiC",
        "colab_type": "code",
        "outputId": "dc23cc4c-e763-4feb-e3fd-f81289ad397f",
        "colab": {
          "base_uri": "https://localhost:8080/",
          "height": 419
        }
      },
      "source": [
        "df.reset_index(drop=True,inplace=True)\n",
        "df"
      ],
      "execution_count": 6,
      "outputs": [
        {
          "output_type": "execute_result",
          "data": {
            "text/html": [
              "<div>\n",
              "<style scoped>\n",
              "    .dataframe tbody tr th:only-of-type {\n",
              "        vertical-align: middle;\n",
              "    }\n",
              "\n",
              "    .dataframe tbody tr th {\n",
              "        vertical-align: top;\n",
              "    }\n",
              "\n",
              "    .dataframe thead th {\n",
              "        text-align: right;\n",
              "    }\n",
              "</style>\n",
              "<table border=\"1\" class=\"dataframe\">\n",
              "  <thead>\n",
              "    <tr style=\"text-align: right;\">\n",
              "      <th></th>\n",
              "      <th>Postal Code</th>\n",
              "      <th>Borough</th>\n",
              "      <th>Neighborhood</th>\n",
              "    </tr>\n",
              "  </thead>\n",
              "  <tbody>\n",
              "    <tr>\n",
              "      <th>0</th>\n",
              "      <td>M3A</td>\n",
              "      <td>North York</td>\n",
              "      <td>Parkwoods</td>\n",
              "    </tr>\n",
              "    <tr>\n",
              "      <th>1</th>\n",
              "      <td>M4A</td>\n",
              "      <td>North York</td>\n",
              "      <td>Victoria Village</td>\n",
              "    </tr>\n",
              "    <tr>\n",
              "      <th>2</th>\n",
              "      <td>M5A</td>\n",
              "      <td>Downtown Toronto</td>\n",
              "      <td>Regent Park, Harbourfront</td>\n",
              "    </tr>\n",
              "    <tr>\n",
              "      <th>3</th>\n",
              "      <td>M6A</td>\n",
              "      <td>North York</td>\n",
              "      <td>Lawrence Manor, Lawrence Heights</td>\n",
              "    </tr>\n",
              "    <tr>\n",
              "      <th>4</th>\n",
              "      <td>M7A</td>\n",
              "      <td>Downtown Toronto</td>\n",
              "      <td>Queen's Park, Ontario Provincial Government</td>\n",
              "    </tr>\n",
              "    <tr>\n",
              "      <th>...</th>\n",
              "      <td>...</td>\n",
              "      <td>...</td>\n",
              "      <td>...</td>\n",
              "    </tr>\n",
              "    <tr>\n",
              "      <th>98</th>\n",
              "      <td>M8X</td>\n",
              "      <td>Etobicoke</td>\n",
              "      <td>The Kingsway, Montgomery Road, Old Mill North</td>\n",
              "    </tr>\n",
              "    <tr>\n",
              "      <th>99</th>\n",
              "      <td>M4Y</td>\n",
              "      <td>Downtown Toronto</td>\n",
              "      <td>Church and Wellesley</td>\n",
              "    </tr>\n",
              "    <tr>\n",
              "      <th>100</th>\n",
              "      <td>M7Y</td>\n",
              "      <td>East Toronto</td>\n",
              "      <td>Business reply mail Processing Centre, South C...</td>\n",
              "    </tr>\n",
              "    <tr>\n",
              "      <th>101</th>\n",
              "      <td>M8Y</td>\n",
              "      <td>Etobicoke</td>\n",
              "      <td>Old Mill South, King's Mill Park, Sunnylea, Hu...</td>\n",
              "    </tr>\n",
              "    <tr>\n",
              "      <th>102</th>\n",
              "      <td>M8Z</td>\n",
              "      <td>Etobicoke</td>\n",
              "      <td>Mimico NW, The Queensway West, South of Bloor,...</td>\n",
              "    </tr>\n",
              "  </tbody>\n",
              "</table>\n",
              "<p>103 rows × 3 columns</p>\n",
              "</div>"
            ],
            "text/plain": [
              "    Postal Code  ...                                       Neighborhood\n",
              "0           M3A  ...                                          Parkwoods\n",
              "1           M4A  ...                                   Victoria Village\n",
              "2           M5A  ...                          Regent Park, Harbourfront\n",
              "3           M6A  ...                   Lawrence Manor, Lawrence Heights\n",
              "4           M7A  ...        Queen's Park, Ontario Provincial Government\n",
              "..          ...  ...                                                ...\n",
              "98          M8X  ...      The Kingsway, Montgomery Road, Old Mill North\n",
              "99          M4Y  ...                               Church and Wellesley\n",
              "100         M7Y  ...  Business reply mail Processing Centre, South C...\n",
              "101         M8Y  ...  Old Mill South, King's Mill Park, Sunnylea, Hu...\n",
              "102         M8Z  ...  Mimico NW, The Queensway West, South of Bloor,...\n",
              "\n",
              "[103 rows x 3 columns]"
            ]
          },
          "metadata": {
            "tags": []
          },
          "execution_count": 6
        }
      ]
    },
    {
      "cell_type": "markdown",
      "metadata": {
        "id": "E-IeyLv3sE9M",
        "colab_type": "text"
      },
      "source": [
        "<h3>Merging rows with same Borough<h3>"
      ]
    },
    {
      "cell_type": "code",
      "metadata": {
        "id": "optnFbGIgyX1",
        "colab_type": "code",
        "outputId": "7c07407d-0129-490d-ca7c-5bb676af8153",
        "colab": {
          "base_uri": "https://localhost:8080/",
          "height": 419
        }
      },
      "source": [
        "df = df.groupby('Postal Code').agg({'Borough':'first','Neighborhood':\" ,\".join}).reset_index()\n",
        "df.drop_duplicates()"
      ],
      "execution_count": 7,
      "outputs": [
        {
          "output_type": "execute_result",
          "data": {
            "text/html": [
              "<div>\n",
              "<style scoped>\n",
              "    .dataframe tbody tr th:only-of-type {\n",
              "        vertical-align: middle;\n",
              "    }\n",
              "\n",
              "    .dataframe tbody tr th {\n",
              "        vertical-align: top;\n",
              "    }\n",
              "\n",
              "    .dataframe thead th {\n",
              "        text-align: right;\n",
              "    }\n",
              "</style>\n",
              "<table border=\"1\" class=\"dataframe\">\n",
              "  <thead>\n",
              "    <tr style=\"text-align: right;\">\n",
              "      <th></th>\n",
              "      <th>Postal Code</th>\n",
              "      <th>Borough</th>\n",
              "      <th>Neighborhood</th>\n",
              "    </tr>\n",
              "  </thead>\n",
              "  <tbody>\n",
              "    <tr>\n",
              "      <th>0</th>\n",
              "      <td>M1B</td>\n",
              "      <td>Scarborough</td>\n",
              "      <td>Malvern, Rouge</td>\n",
              "    </tr>\n",
              "    <tr>\n",
              "      <th>1</th>\n",
              "      <td>M1C</td>\n",
              "      <td>Scarborough</td>\n",
              "      <td>Rouge Hill, Port Union, Highland Creek</td>\n",
              "    </tr>\n",
              "    <tr>\n",
              "      <th>2</th>\n",
              "      <td>M1E</td>\n",
              "      <td>Scarborough</td>\n",
              "      <td>Guildwood, Morningside, West Hill</td>\n",
              "    </tr>\n",
              "    <tr>\n",
              "      <th>3</th>\n",
              "      <td>M1G</td>\n",
              "      <td>Scarborough</td>\n",
              "      <td>Woburn</td>\n",
              "    </tr>\n",
              "    <tr>\n",
              "      <th>4</th>\n",
              "      <td>M1H</td>\n",
              "      <td>Scarborough</td>\n",
              "      <td>Cedarbrae</td>\n",
              "    </tr>\n",
              "    <tr>\n",
              "      <th>...</th>\n",
              "      <td>...</td>\n",
              "      <td>...</td>\n",
              "      <td>...</td>\n",
              "    </tr>\n",
              "    <tr>\n",
              "      <th>98</th>\n",
              "      <td>M9N</td>\n",
              "      <td>York</td>\n",
              "      <td>Weston</td>\n",
              "    </tr>\n",
              "    <tr>\n",
              "      <th>99</th>\n",
              "      <td>M9P</td>\n",
              "      <td>Etobicoke</td>\n",
              "      <td>Westmount</td>\n",
              "    </tr>\n",
              "    <tr>\n",
              "      <th>100</th>\n",
              "      <td>M9R</td>\n",
              "      <td>Etobicoke</td>\n",
              "      <td>Kingsview Village, St. Phillips, Martin Grove ...</td>\n",
              "    </tr>\n",
              "    <tr>\n",
              "      <th>101</th>\n",
              "      <td>M9V</td>\n",
              "      <td>Etobicoke</td>\n",
              "      <td>South Steeles, Silverstone, Humbergate, Jamest...</td>\n",
              "    </tr>\n",
              "    <tr>\n",
              "      <th>102</th>\n",
              "      <td>M9W</td>\n",
              "      <td>Etobicoke</td>\n",
              "      <td>Northwest, West Humber - Clairville</td>\n",
              "    </tr>\n",
              "  </tbody>\n",
              "</table>\n",
              "<p>103 rows × 3 columns</p>\n",
              "</div>"
            ],
            "text/plain": [
              "    Postal Code      Borough                                       Neighborhood\n",
              "0           M1B  Scarborough                                     Malvern, Rouge\n",
              "1           M1C  Scarborough             Rouge Hill, Port Union, Highland Creek\n",
              "2           M1E  Scarborough                  Guildwood, Morningside, West Hill\n",
              "3           M1G  Scarborough                                             Woburn\n",
              "4           M1H  Scarborough                                          Cedarbrae\n",
              "..          ...          ...                                                ...\n",
              "98          M9N         York                                             Weston\n",
              "99          M9P    Etobicoke                                          Westmount\n",
              "100         M9R    Etobicoke  Kingsview Village, St. Phillips, Martin Grove ...\n",
              "101         M9V    Etobicoke  South Steeles, Silverstone, Humbergate, Jamest...\n",
              "102         M9W    Etobicoke                Northwest, West Humber - Clairville\n",
              "\n",
              "[103 rows x 3 columns]"
            ]
          },
          "metadata": {
            "tags": []
          },
          "execution_count": 7
        }
      ]
    },
    {
      "cell_type": "markdown",
      "metadata": {
        "id": "qIRg9GG0sb8v",
        "colab_type": "text"
      },
      "source": [
        "<h3>Filling Not assigned in neighbourhood to Borough </h3>"
      ]
    },
    {
      "cell_type": "code",
      "metadata": {
        "id": "vtd2QASWkibb",
        "colab_type": "code",
        "outputId": "9b93be73-9057-42fe-c091-da7e82a4e203",
        "colab": {
          "base_uri": "https://localhost:8080/",
          "height": 419
        }
      },
      "source": [
        "df['Neighborhood'].mask(lambda x: x == 'Not assigned')\n",
        "df['Neighborhood'].fillna(df['Borough'])\n",
        "df"
      ],
      "execution_count": 8,
      "outputs": [
        {
          "output_type": "execute_result",
          "data": {
            "text/html": [
              "<div>\n",
              "<style scoped>\n",
              "    .dataframe tbody tr th:only-of-type {\n",
              "        vertical-align: middle;\n",
              "    }\n",
              "\n",
              "    .dataframe tbody tr th {\n",
              "        vertical-align: top;\n",
              "    }\n",
              "\n",
              "    .dataframe thead th {\n",
              "        text-align: right;\n",
              "    }\n",
              "</style>\n",
              "<table border=\"1\" class=\"dataframe\">\n",
              "  <thead>\n",
              "    <tr style=\"text-align: right;\">\n",
              "      <th></th>\n",
              "      <th>Postal Code</th>\n",
              "      <th>Borough</th>\n",
              "      <th>Neighborhood</th>\n",
              "    </tr>\n",
              "  </thead>\n",
              "  <tbody>\n",
              "    <tr>\n",
              "      <th>0</th>\n",
              "      <td>M1B</td>\n",
              "      <td>Scarborough</td>\n",
              "      <td>Malvern, Rouge</td>\n",
              "    </tr>\n",
              "    <tr>\n",
              "      <th>1</th>\n",
              "      <td>M1C</td>\n",
              "      <td>Scarborough</td>\n",
              "      <td>Rouge Hill, Port Union, Highland Creek</td>\n",
              "    </tr>\n",
              "    <tr>\n",
              "      <th>2</th>\n",
              "      <td>M1E</td>\n",
              "      <td>Scarborough</td>\n",
              "      <td>Guildwood, Morningside, West Hill</td>\n",
              "    </tr>\n",
              "    <tr>\n",
              "      <th>3</th>\n",
              "      <td>M1G</td>\n",
              "      <td>Scarborough</td>\n",
              "      <td>Woburn</td>\n",
              "    </tr>\n",
              "    <tr>\n",
              "      <th>4</th>\n",
              "      <td>M1H</td>\n",
              "      <td>Scarborough</td>\n",
              "      <td>Cedarbrae</td>\n",
              "    </tr>\n",
              "    <tr>\n",
              "      <th>...</th>\n",
              "      <td>...</td>\n",
              "      <td>...</td>\n",
              "      <td>...</td>\n",
              "    </tr>\n",
              "    <tr>\n",
              "      <th>98</th>\n",
              "      <td>M9N</td>\n",
              "      <td>York</td>\n",
              "      <td>Weston</td>\n",
              "    </tr>\n",
              "    <tr>\n",
              "      <th>99</th>\n",
              "      <td>M9P</td>\n",
              "      <td>Etobicoke</td>\n",
              "      <td>Westmount</td>\n",
              "    </tr>\n",
              "    <tr>\n",
              "      <th>100</th>\n",
              "      <td>M9R</td>\n",
              "      <td>Etobicoke</td>\n",
              "      <td>Kingsview Village, St. Phillips, Martin Grove ...</td>\n",
              "    </tr>\n",
              "    <tr>\n",
              "      <th>101</th>\n",
              "      <td>M9V</td>\n",
              "      <td>Etobicoke</td>\n",
              "      <td>South Steeles, Silverstone, Humbergate, Jamest...</td>\n",
              "    </tr>\n",
              "    <tr>\n",
              "      <th>102</th>\n",
              "      <td>M9W</td>\n",
              "      <td>Etobicoke</td>\n",
              "      <td>Northwest, West Humber - Clairville</td>\n",
              "    </tr>\n",
              "  </tbody>\n",
              "</table>\n",
              "<p>103 rows × 3 columns</p>\n",
              "</div>"
            ],
            "text/plain": [
              "    Postal Code      Borough                                       Neighborhood\n",
              "0           M1B  Scarborough                                     Malvern, Rouge\n",
              "1           M1C  Scarborough             Rouge Hill, Port Union, Highland Creek\n",
              "2           M1E  Scarborough                  Guildwood, Morningside, West Hill\n",
              "3           M1G  Scarborough                                             Woburn\n",
              "4           M1H  Scarborough                                          Cedarbrae\n",
              "..          ...          ...                                                ...\n",
              "98          M9N         York                                             Weston\n",
              "99          M9P    Etobicoke                                          Westmount\n",
              "100         M9R    Etobicoke  Kingsview Village, St. Phillips, Martin Grove ...\n",
              "101         M9V    Etobicoke  South Steeles, Silverstone, Humbergate, Jamest...\n",
              "102         M9W    Etobicoke                Northwest, West Humber - Clairville\n",
              "\n",
              "[103 rows x 3 columns]"
            ]
          },
          "metadata": {
            "tags": []
          },
          "execution_count": 8
        }
      ]
    },
    {
      "cell_type": "markdown",
      "metadata": {
        "id": "rSGg_i2Dsxe5",
        "colab_type": "text"
      },
      "source": [
        "<h3>Printing the test dataset as shown in Question<h3>"
      ]
    },
    {
      "cell_type": "code",
      "metadata": {
        "id": "33m5Pub4oF1M",
        "colab_type": "code",
        "outputId": "69958b81-fa28-42d9-8e93-561dfc19ca9b",
        "colab": {
          "base_uri": "https://localhost:8080/",
          "height": 421
        }
      },
      "source": [
        "column_names = [\"Postal Code\", \"Borough\", \"Neighborhood\"]\n",
        "test_df = pd.DataFrame(columns=column_names)\n",
        "test_list = [\"M5G\", \"M2H\", \"M4B\", \"M1J\", \"M4G\", \"M4M\", \"M1R\", \"M9V\", \"M9L\", \"M5V\", \"M1B\", \"M5A\"]\n",
        "\n",
        "for postcode in test_list:\n",
        "    test_df = test_df.append(df[df[\"Postal Code\"]==postcode], ignore_index=True)\n",
        "    \n",
        "test_df"
      ],
      "execution_count": 9,
      "outputs": [
        {
          "output_type": "execute_result",
          "data": {
            "text/html": [
              "<div>\n",
              "<style scoped>\n",
              "    .dataframe tbody tr th:only-of-type {\n",
              "        vertical-align: middle;\n",
              "    }\n",
              "\n",
              "    .dataframe tbody tr th {\n",
              "        vertical-align: top;\n",
              "    }\n",
              "\n",
              "    .dataframe thead th {\n",
              "        text-align: right;\n",
              "    }\n",
              "</style>\n",
              "<table border=\"1\" class=\"dataframe\">\n",
              "  <thead>\n",
              "    <tr style=\"text-align: right;\">\n",
              "      <th></th>\n",
              "      <th>Postal Code</th>\n",
              "      <th>Borough</th>\n",
              "      <th>Neighborhood</th>\n",
              "    </tr>\n",
              "  </thead>\n",
              "  <tbody>\n",
              "    <tr>\n",
              "      <th>0</th>\n",
              "      <td>M5G</td>\n",
              "      <td>Downtown Toronto</td>\n",
              "      <td>Central Bay Street</td>\n",
              "    </tr>\n",
              "    <tr>\n",
              "      <th>1</th>\n",
              "      <td>M2H</td>\n",
              "      <td>North York</td>\n",
              "      <td>Hillcrest Village</td>\n",
              "    </tr>\n",
              "    <tr>\n",
              "      <th>2</th>\n",
              "      <td>M4B</td>\n",
              "      <td>East York</td>\n",
              "      <td>Parkview Hill, Woodbine Gardens</td>\n",
              "    </tr>\n",
              "    <tr>\n",
              "      <th>3</th>\n",
              "      <td>M1J</td>\n",
              "      <td>Scarborough</td>\n",
              "      <td>Scarborough Village</td>\n",
              "    </tr>\n",
              "    <tr>\n",
              "      <th>4</th>\n",
              "      <td>M4G</td>\n",
              "      <td>East York</td>\n",
              "      <td>Leaside</td>\n",
              "    </tr>\n",
              "    <tr>\n",
              "      <th>5</th>\n",
              "      <td>M4M</td>\n",
              "      <td>East Toronto</td>\n",
              "      <td>Studio District</td>\n",
              "    </tr>\n",
              "    <tr>\n",
              "      <th>6</th>\n",
              "      <td>M1R</td>\n",
              "      <td>Scarborough</td>\n",
              "      <td>Wexford, Maryvale</td>\n",
              "    </tr>\n",
              "    <tr>\n",
              "      <th>7</th>\n",
              "      <td>M9V</td>\n",
              "      <td>Etobicoke</td>\n",
              "      <td>South Steeles, Silverstone, Humbergate, Jamest...</td>\n",
              "    </tr>\n",
              "    <tr>\n",
              "      <th>8</th>\n",
              "      <td>M9L</td>\n",
              "      <td>North York</td>\n",
              "      <td>Humber Summit</td>\n",
              "    </tr>\n",
              "    <tr>\n",
              "      <th>9</th>\n",
              "      <td>M5V</td>\n",
              "      <td>Downtown Toronto</td>\n",
              "      <td>CN Tower, King and Spadina, Railway Lands, Har...</td>\n",
              "    </tr>\n",
              "    <tr>\n",
              "      <th>10</th>\n",
              "      <td>M1B</td>\n",
              "      <td>Scarborough</td>\n",
              "      <td>Malvern, Rouge</td>\n",
              "    </tr>\n",
              "    <tr>\n",
              "      <th>11</th>\n",
              "      <td>M5A</td>\n",
              "      <td>Downtown Toronto</td>\n",
              "      <td>Regent Park, Harbourfront</td>\n",
              "    </tr>\n",
              "  </tbody>\n",
              "</table>\n",
              "</div>"
            ],
            "text/plain": [
              "   Postal Code  ...                                       Neighborhood\n",
              "0          M5G  ...                                 Central Bay Street\n",
              "1          M2H  ...                                  Hillcrest Village\n",
              "2          M4B  ...                    Parkview Hill, Woodbine Gardens\n",
              "3          M1J  ...                                Scarborough Village\n",
              "4          M4G  ...                                            Leaside\n",
              "5          M4M  ...                                    Studio District\n",
              "6          M1R  ...                                  Wexford, Maryvale\n",
              "7          M9V  ...  South Steeles, Silverstone, Humbergate, Jamest...\n",
              "8          M9L  ...                                      Humber Summit\n",
              "9          M5V  ...  CN Tower, King and Spadina, Railway Lands, Har...\n",
              "10         M1B  ...                                     Malvern, Rouge\n",
              "11         M5A  ...                          Regent Park, Harbourfront\n",
              "\n",
              "[12 rows x 3 columns]"
            ]
          },
          "metadata": {
            "tags": []
          },
          "execution_count": 9
        }
      ]
    },
    {
      "cell_type": "code",
      "metadata": {
        "id": "0qGi0WObprEW",
        "colab_type": "code",
        "outputId": "a6478b84-d103-4693-f762-a26fc9594434",
        "colab": {
          "base_uri": "https://localhost:8080/",
          "height": 34
        }
      },
      "source": [
        "df.shape"
      ],
      "execution_count": 10,
      "outputs": [
        {
          "output_type": "execute_result",
          "data": {
            "text/plain": [
              "(103, 3)"
            ]
          },
          "metadata": {
            "tags": []
          },
          "execution_count": 10
        }
      ]
    },
    {
      "cell_type": "markdown",
      "metadata": {
        "id": "W2rHoIUSka4V",
        "colab_type": "text"
      },
      "source": [
        "<h3>Importing Geospatial Coordinates<h3>"
      ]
    },
    {
      "cell_type": "code",
      "metadata": {
        "id": "-lS-dOZstGOE",
        "colab_type": "code",
        "colab": {
          "base_uri": "https://localhost:8080/",
          "height": 34
        },
        "outputId": "1b386fbf-d3ac-4bb2-bd27-a436c604aeb5"
      },
      "source": [
        "gp=pd.read_csv(\"Geospatial_Coordinates.csv\")\n",
        "gp.shape"
      ],
      "execution_count": 11,
      "outputs": [
        {
          "output_type": "execute_result",
          "data": {
            "text/plain": [
              "(103, 3)"
            ]
          },
          "metadata": {
            "tags": []
          },
          "execution_count": 11
        }
      ]
    },
    {
      "cell_type": "code",
      "metadata": {
        "id": "mqF30R9MiSbY",
        "colab_type": "code",
        "colab": {
          "base_uri": "https://localhost:8080/",
          "height": 204
        },
        "outputId": "752c05fa-2edf-4f04-a3a9-7801858f3f22"
      },
      "source": [
        "gp.head()"
      ],
      "execution_count": 12,
      "outputs": [
        {
          "output_type": "execute_result",
          "data": {
            "text/html": [
              "<div>\n",
              "<style scoped>\n",
              "    .dataframe tbody tr th:only-of-type {\n",
              "        vertical-align: middle;\n",
              "    }\n",
              "\n",
              "    .dataframe tbody tr th {\n",
              "        vertical-align: top;\n",
              "    }\n",
              "\n",
              "    .dataframe thead th {\n",
              "        text-align: right;\n",
              "    }\n",
              "</style>\n",
              "<table border=\"1\" class=\"dataframe\">\n",
              "  <thead>\n",
              "    <tr style=\"text-align: right;\">\n",
              "      <th></th>\n",
              "      <th>Postal Code</th>\n",
              "      <th>Latitude</th>\n",
              "      <th>Longitude</th>\n",
              "    </tr>\n",
              "  </thead>\n",
              "  <tbody>\n",
              "    <tr>\n",
              "      <th>0</th>\n",
              "      <td>M1B</td>\n",
              "      <td>43.806686</td>\n",
              "      <td>-79.194353</td>\n",
              "    </tr>\n",
              "    <tr>\n",
              "      <th>1</th>\n",
              "      <td>M1C</td>\n",
              "      <td>43.784535</td>\n",
              "      <td>-79.160497</td>\n",
              "    </tr>\n",
              "    <tr>\n",
              "      <th>2</th>\n",
              "      <td>M1E</td>\n",
              "      <td>43.763573</td>\n",
              "      <td>-79.188711</td>\n",
              "    </tr>\n",
              "    <tr>\n",
              "      <th>3</th>\n",
              "      <td>M1G</td>\n",
              "      <td>43.770992</td>\n",
              "      <td>-79.216917</td>\n",
              "    </tr>\n",
              "    <tr>\n",
              "      <th>4</th>\n",
              "      <td>M1H</td>\n",
              "      <td>43.773136</td>\n",
              "      <td>-79.239476</td>\n",
              "    </tr>\n",
              "  </tbody>\n",
              "</table>\n",
              "</div>"
            ],
            "text/plain": [
              "  Postal Code   Latitude  Longitude\n",
              "0         M1B  43.806686 -79.194353\n",
              "1         M1C  43.784535 -79.160497\n",
              "2         M1E  43.763573 -79.188711\n",
              "3         M1G  43.770992 -79.216917\n",
              "4         M1H  43.773136 -79.239476"
            ]
          },
          "metadata": {
            "tags": []
          },
          "execution_count": 12
        }
      ]
    },
    {
      "cell_type": "markdown",
      "metadata": {
        "id": "doaQrry-koWC",
        "colab_type": "text"
      },
      "source": [
        "<h3>Merging the datasets to get required result<h3>"
      ]
    },
    {
      "cell_type": "code",
      "metadata": {
        "id": "EOfpV-YiisCd",
        "colab_type": "code",
        "colab": {
          "base_uri": "https://localhost:8080/",
          "height": 419
        },
        "outputId": "fd0f48c8-557b-40e9-b2c9-1e280ccbf5b4"
      },
      "source": [
        "res=pd.merge(df,gp,on=\"Postal Code\")\n",
        "res"
      ],
      "execution_count": 14,
      "outputs": [
        {
          "output_type": "execute_result",
          "data": {
            "text/html": [
              "<div>\n",
              "<style scoped>\n",
              "    .dataframe tbody tr th:only-of-type {\n",
              "        vertical-align: middle;\n",
              "    }\n",
              "\n",
              "    .dataframe tbody tr th {\n",
              "        vertical-align: top;\n",
              "    }\n",
              "\n",
              "    .dataframe thead th {\n",
              "        text-align: right;\n",
              "    }\n",
              "</style>\n",
              "<table border=\"1\" class=\"dataframe\">\n",
              "  <thead>\n",
              "    <tr style=\"text-align: right;\">\n",
              "      <th></th>\n",
              "      <th>Postal Code</th>\n",
              "      <th>Borough</th>\n",
              "      <th>Neighborhood</th>\n",
              "      <th>Latitude</th>\n",
              "      <th>Longitude</th>\n",
              "    </tr>\n",
              "  </thead>\n",
              "  <tbody>\n",
              "    <tr>\n",
              "      <th>0</th>\n",
              "      <td>M1B</td>\n",
              "      <td>Scarborough</td>\n",
              "      <td>Malvern, Rouge</td>\n",
              "      <td>43.806686</td>\n",
              "      <td>-79.194353</td>\n",
              "    </tr>\n",
              "    <tr>\n",
              "      <th>1</th>\n",
              "      <td>M1C</td>\n",
              "      <td>Scarborough</td>\n",
              "      <td>Rouge Hill, Port Union, Highland Creek</td>\n",
              "      <td>43.784535</td>\n",
              "      <td>-79.160497</td>\n",
              "    </tr>\n",
              "    <tr>\n",
              "      <th>2</th>\n",
              "      <td>M1E</td>\n",
              "      <td>Scarborough</td>\n",
              "      <td>Guildwood, Morningside, West Hill</td>\n",
              "      <td>43.763573</td>\n",
              "      <td>-79.188711</td>\n",
              "    </tr>\n",
              "    <tr>\n",
              "      <th>3</th>\n",
              "      <td>M1G</td>\n",
              "      <td>Scarborough</td>\n",
              "      <td>Woburn</td>\n",
              "      <td>43.770992</td>\n",
              "      <td>-79.216917</td>\n",
              "    </tr>\n",
              "    <tr>\n",
              "      <th>4</th>\n",
              "      <td>M1H</td>\n",
              "      <td>Scarborough</td>\n",
              "      <td>Cedarbrae</td>\n",
              "      <td>43.773136</td>\n",
              "      <td>-79.239476</td>\n",
              "    </tr>\n",
              "    <tr>\n",
              "      <th>...</th>\n",
              "      <td>...</td>\n",
              "      <td>...</td>\n",
              "      <td>...</td>\n",
              "      <td>...</td>\n",
              "      <td>...</td>\n",
              "    </tr>\n",
              "    <tr>\n",
              "      <th>98</th>\n",
              "      <td>M9N</td>\n",
              "      <td>York</td>\n",
              "      <td>Weston</td>\n",
              "      <td>43.706876</td>\n",
              "      <td>-79.518188</td>\n",
              "    </tr>\n",
              "    <tr>\n",
              "      <th>99</th>\n",
              "      <td>M9P</td>\n",
              "      <td>Etobicoke</td>\n",
              "      <td>Westmount</td>\n",
              "      <td>43.696319</td>\n",
              "      <td>-79.532242</td>\n",
              "    </tr>\n",
              "    <tr>\n",
              "      <th>100</th>\n",
              "      <td>M9R</td>\n",
              "      <td>Etobicoke</td>\n",
              "      <td>Kingsview Village, St. Phillips, Martin Grove ...</td>\n",
              "      <td>43.688905</td>\n",
              "      <td>-79.554724</td>\n",
              "    </tr>\n",
              "    <tr>\n",
              "      <th>101</th>\n",
              "      <td>M9V</td>\n",
              "      <td>Etobicoke</td>\n",
              "      <td>South Steeles, Silverstone, Humbergate, Jamest...</td>\n",
              "      <td>43.739416</td>\n",
              "      <td>-79.588437</td>\n",
              "    </tr>\n",
              "    <tr>\n",
              "      <th>102</th>\n",
              "      <td>M9W</td>\n",
              "      <td>Etobicoke</td>\n",
              "      <td>Northwest, West Humber - Clairville</td>\n",
              "      <td>43.706748</td>\n",
              "      <td>-79.594054</td>\n",
              "    </tr>\n",
              "  </tbody>\n",
              "</table>\n",
              "<p>103 rows × 5 columns</p>\n",
              "</div>"
            ],
            "text/plain": [
              "    Postal Code      Borough  ...   Latitude  Longitude\n",
              "0           M1B  Scarborough  ...  43.806686 -79.194353\n",
              "1           M1C  Scarborough  ...  43.784535 -79.160497\n",
              "2           M1E  Scarborough  ...  43.763573 -79.188711\n",
              "3           M1G  Scarborough  ...  43.770992 -79.216917\n",
              "4           M1H  Scarborough  ...  43.773136 -79.239476\n",
              "..          ...          ...  ...        ...        ...\n",
              "98          M9N         York  ...  43.706876 -79.518188\n",
              "99          M9P    Etobicoke  ...  43.696319 -79.532242\n",
              "100         M9R    Etobicoke  ...  43.688905 -79.554724\n",
              "101         M9V    Etobicoke  ...  43.739416 -79.588437\n",
              "102         M9W    Etobicoke  ...  43.706748 -79.594054\n",
              "\n",
              "[103 rows x 5 columns]"
            ]
          },
          "metadata": {
            "tags": []
          },
          "execution_count": 14
        }
      ]
    },
    {
      "cell_type": "markdown",
      "metadata": {
        "id": "04y5darMo1l0",
        "colab_type": "text"
      },
      "source": [
        "<h3>Plotting the coordinates using Folium<h3>"
      ]
    },
    {
      "cell_type": "code",
      "metadata": {
        "id": "P7FiN8O4j9OT",
        "colab_type": "code",
        "colab": {
          "base_uri": "https://localhost:8080/",
          "height": 187
        },
        "outputId": "37c6c00a-b67a-447e-a231-259f70929a34"
      },
      "source": [
        "llist=res[['Latitude','Longitude']].values.tolist()\n",
        "llist[:10]\n"
      ],
      "execution_count": 18,
      "outputs": [
        {
          "output_type": "execute_result",
          "data": {
            "text/plain": [
              "[[43.806686299999996, -79.19435340000001],\n",
              " [43.7845351, -79.16049709999999],\n",
              " [43.7635726, -79.1887115],\n",
              " [43.7709921, -79.21691740000001],\n",
              " [43.773136, -79.23947609999999],\n",
              " [43.7447342, -79.23947609999999],\n",
              " [43.7279292, -79.26202940000002],\n",
              " [43.711111700000004, -79.2845772],\n",
              " [43.716316, -79.23947609999999],\n",
              " [43.692657000000004, -79.2648481]]"
            ]
          },
          "metadata": {
            "tags": []
          },
          "execution_count": 18
        }
      ]
    },
    {
      "cell_type": "code",
      "metadata": {
        "id": "1tX0gQ84pSF1",
        "colab_type": "code",
        "colab": {
          "base_uri": "https://localhost:8080/",
          "height": 583
        },
        "outputId": "7e1d0747-08c8-40fe-eb69-b93e748c6ed8"
      },
      "source": [
        "map = folium.Map(location=[43.6532,-79.3832],zoom_start=10)\n",
        "for point in range(0, len(llist)):\n",
        "    folium.Marker(llist[point], popup=res['Postal Code'][point],).add_to(map)\n",
        "map"
      ],
      "execution_count": 22,
      "outputs": [
        {
          "output_type": "execute_result",
          "data": {
            "text/html": [
              "<div style=\"width:100%;\"><div style=\"position:relative;width:100%;height:0;padding-bottom:60%;\"><span style=\"color:#565656\">Make this Notebook Trusted to load map: File -> Trust Notebook</span><iframe src=\"about:blank\" style=\"position:absolute;width:100%;height:100%;left:0;top:0;border:none !important;\" data-html=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 onload=\"this.contentDocument.open();this.contentDocument.write(atob(this.getAttribute('data-html')));this.contentDocument.close();\" allowfullscreen webkitallowfullscreen mozallowfullscreen></iframe></div></div>"
            ],
            "text/plain": [
              "<folium.folium.Map at 0x7f28233e8ac8>"
            ]
          },
          "metadata": {
            "tags": []
          },
          "execution_count": 22
        }
      ]
    },
    {
      "cell_type": "code",
      "metadata": {
        "id": "PK6HjeKtqWEt",
        "colab_type": "code",
        "colab": {}
      },
      "source": [
        ""
      ],
      "execution_count": 0,
      "outputs": []
    }
  ]
}